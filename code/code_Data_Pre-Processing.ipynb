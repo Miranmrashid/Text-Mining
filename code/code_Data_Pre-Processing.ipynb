{
 "cells": [
  {
   "cell_type": "markdown",
   "metadata": {},
   "source": [
    "# Text Mining Project (5980UE)\n",
    "# Hate-Speech Detection using HurtLex lexicon"
   ]
  },
  {
   "cell_type": "markdown",
   "metadata": {},
   "source": [
    "University of Passau\n",
    "\n",
    "Text Mining Project(5980UE)\n",
    "\n",
    "Project Topic 3.16\n",
    "\n",
    "by \n",
    "\n",
    "Salim Fares(fares01@ads.uni-passau.de)\n",
    "\n",
    "Miran Mohammed Rashed(mohamm11@ads.uni-passau.de)\n",
    "\n",
    "\n",
    "Supervised by \n",
    "\n",
    "Dr. Jelena Mitrović (jelena.mitrovic@uni-passau.de)\n"
   ]
  },
  {
   "cell_type": "markdown",
   "metadata": {},
   "source": [
    "This file contains the data pre-processing functions"
   ]
  },
  {
   "cell_type": "code",
   "execution_count": null,
   "metadata": {},
   "outputs": [],
   "source": [
    "import pandas as pd\n",
    "import re\n",
    "from nltk import word_tokenize\n",
    "from nltk.stem.isri import ISRIStemmer\n",
    "from nltk.corpus import stopwords\n",
    "from nltk.stem.porter import *\n",
    "import string"
   ]
  },
  {
   "cell_type": "code",
   "execution_count": null,
   "metadata": {},
   "outputs": [],
   "source": [
    "import tashaphyne.arabic_const as arabconst"
   ]
  },
  {
   "cell_type": "code",
   "execution_count": null,
   "metadata": {},
   "outputs": [],
   "source": [
    "df = pd.read_csv('Arabic_data.csv')\n",
    "New_Arabic_Lexicon = pd.read_csv('New_Arabic_Lexicon')"
   ]
  },
  {
   "cell_type": "markdown",
   "metadata": {},
   "source": [
    "### For English\n"
   ]
  },
  {
   "cell_type": "code",
   "execution_count": null,
   "metadata": {},
   "outputs": [],
   "source": [
    "df_En= pd.read_csv('Englis_data.csv')\n",
    "New_English_lexicon = pd.read_csv('New_English_hurtlex.tsv', sep='\\t')"
   ]
  },
  {
   "cell_type": "code",
   "execution_count": null,
   "metadata": {},
   "outputs": [],
   "source": []
  },
  {
   "cell_type": "code",
   "execution_count": null,
   "metadata": {},
   "outputs": [],
   "source": [
    "def normalizeArabic(text):\n",
    "    # Remove Tashkeel\n",
    "    text = arabconst.HARAKAT_PAT.sub('', text)\n",
    "    # Remove Repeated Characters\n",
    "    text = re.sub(r'(.)\\1+', r'\\1', text)\n",
    "    text = re.sub(\"[إأٱآا]\", \"ا\", text)\n",
    "    text = re.sub(\"ى\", \"ي\", text)\n",
    "    text = re.sub(\"ؤ\", \"ء\", text)\n",
    "    text = re.sub(\"ئ\", \"ء\", text)\n",
    "    text = re.sub(\"ة\", \"ه\", text)\n",
    "    return text"
   ]
  },
  {
   "cell_type": "code",
   "execution_count": null,
   "metadata": {},
   "outputs": [],
   "source": [
    "def remove_single_chars(text):\n",
    "    words = text.split(\" \")\n",
    "    text = \" \".join([word for word in words if len(word) > 1])\n",
    "    return text"
   ]
  },
  {
   "cell_type": "code",
   "execution_count": null,
   "metadata": {},
   "outputs": [],
   "source": [
    "def clean(text):\n",
    "    text = normalizeArabic(text)\n",
    "    # Remove Punctuations\n",
    "    arabic_punctuations = '''`÷×؛<>_()*&^%][ـ،/:\"؟.,'{}~¦+|!”…“–ـ'''\n",
    "    english_punctuations = string.punctuation\n",
    "    punctuations_list = arabic_punctuations + english_punctuations\n",
    "    text = text.translate(str.maketrans('', '', punctuations_list))\n",
    "    # Remove Hashtag Signs\n",
    "    text = re.sub(r\"#\", \" \", text)\n",
    "    # Remove URLs, Mentions, Trailing Non-Whitespaces Characters\n",
    "    text = re.sub(r\"(?:\\@|https?\\://)\\S+\", \" \", text)\n",
    "    # Remove Numbers\n",
    "    text = re.sub(r\"\\d+\", \" \", text)\n",
    "    # Remove English Characters\n",
    "    text = re.sub(r\"[A-Z|a-z]+\", \" \", text)\n",
    "    # Remove Single Characters\n",
    "    text = remove_single_chars(text)\n",
    "    # Remove Stop Words\n",
    "    text = \" \".join([word for word in word_tokenize(text) if not word in stop_words])\n",
    "    return str(text)\n",
    "    "
   ]
  },
  {
   "cell_type": "markdown",
   "metadata": {},
   "source": [
    "##  Clean function for English"
   ]
  },
  {
   "cell_type": "code",
   "execution_count": null,
   "metadata": {},
   "outputs": [],
   "source": [
    "stopwords = [x for x in stopwords.words('english')]\n",
    "st = ISRIStemmer()"
   ]
  },
  {
   "cell_type": "code",
   "execution_count": null,
   "metadata": {},
   "outputs": [],
   "source": [
    "def clean(text):\n",
    "  \n",
    "    giant_url_regex = ('http[s]?://(?:[a-zA-Z]|[0-9]|[$-_@.&+]|'\n",
    "        '[!*\\(\\),]|(?:%[0-9a-fA-F][0-9a-fA-F]))+')\n",
    "    mention_regex = '@[\\w\\-]+'\n",
    "\n",
    "    # Remove URLs, Mentions, Trailing Non-Whitespaces Characters\n",
    "    # Remove Numbers\n",
    "    text = re.sub(giant_url_regex, '', text)\n",
    "    text = re.sub(mention_regex, '', text)\n",
    "    text = re.sub(giant_url_regex, '', text)\n",
    "    \n",
    "    # Remove Punctuations\n",
    "    arabic_punctuations = '''`÷×؛<>_()*&^%][ـ،/:\"؟.,'{}~¦+|!”…“–ـ'''\n",
    "    english_punctuations = string.punctuation\n",
    "    punctuations_list = arabic_punctuations + english_punctuations\n",
    "    text = text.translate(str.maketrans('', '', punctuations_list))\n",
    "    # Remove Hashtag Signs\n",
    "    text = re.sub(r\"#\", \" \", text)\n",
    "    # Remove emoji\n",
    "    emoji_pattern = re.compile(\"[\"\n",
    "        u\"\\U0001F600-\\U0001F64F\"  # emoticons\n",
    "        u\"\\U0001F300-\\U0001F5FF\"  # symbols & pictographs\n",
    "        u\"\\U0001F680-\\U0001F6FF\"  # transport & map symbols\n",
    "        u\"\\U0001F1E0-\\U0001F1FF\"  # flags (iOS)\n",
    "                           \"]+\", flags=re.UNICODE)\n",
    "    text=emoji_pattern.sub(r'', text)\n",
    "    \n",
    "      \n",
    "    # Remove Stop Words\n",
    "    text = \" \".join([word for word in word_tokenize(text) if not word in stopwords])\n",
    "    return str(text)"
   ]
  },
  {
   "cell_type": "code",
   "execution_count": null,
   "metadata": {},
   "outputs": [],
   "source": []
  },
  {
   "cell_type": "code",
   "execution_count": null,
   "metadata": {},
   "outputs": [],
   "source": [
    "def stem(text):\n",
    "    # Stemming\n",
    "    text = \" \".join([st.stem(word)for word in word_tokenize(text)])\n",
    "    return text"
   ]
  },
  {
   "cell_type": "code",
   "execution_count": null,
   "metadata": {},
   "outputs": [],
   "source": [
    "df['clean'] = df['tweet'].apply(lambda x: clean(x))"
   ]
  },
  {
   "cell_type": "code",
   "execution_count": null,
   "metadata": {},
   "outputs": [],
   "source": [
    "df['stemmed'] = df['clean'].apply(lambda x: stem(x))"
   ]
  },
  {
   "cell_type": "code",
   "execution_count": null,
   "metadata": {},
   "outputs": [],
   "source": [
    "New_Arabic_Lexicon['clean'] = New_Arabic_Lexicon['lemma'].apply(lambda x: clean(x))"
   ]
  },
  {
   "cell_type": "code",
   "execution_count": null,
   "metadata": {},
   "outputs": [],
   "source": [
    "New_Arabic_Lexicon['stem'] = New_Arabic_Lexicon['clean'].apply(lambda x: stem(x))"
   ]
  },
  {
   "cell_type": "code",
   "execution_count": null,
   "metadata": {},
   "outputs": [],
   "source": [
    "New_Arabic_Lexicon['clean'] = New_Arabic_Lexicon['lemma'].apply(lambda x: clean(x))\n",
    "New_Arabic_Lexicon['stem'] = New_Arabic_Lexicon['clean'].apply(lambda x: stem(x))"
   ]
  },
  {
   "cell_type": "code",
   "execution_count": null,
   "metadata": {},
   "outputs": [],
   "source": [
    "nan_value = float(\"NaN\")\n",
    "New_Arabic_Lexicon.replace(\"\", nan_value, inplace=True)\n",
    "New_Arabic_Lexicon.dropna(subset = [\"clean\"], inplace=True)\n",
    "New_Arabic_Lexicon.reset_index().to_csv('old_lexicon.csv')"
   ]
  },
  {
   "cell_type": "code",
   "execution_count": null,
   "metadata": {},
   "outputs": [],
   "source": [
    "df.replace(\"\", nan_value, inplace=True)\n",
    "df.dropna(subset = [\"clean\"], inplace=True)\n",
    "df.reset_index().to_csv('data.csv')"
   ]
  },
  {
   "cell_type": "markdown",
   "metadata": {},
   "source": [
    "## For English"
   ]
  },
  {
   "cell_type": "code",
   "execution_count": null,
   "metadata": {},
   "outputs": [],
   "source": [
    "df_En['clean'] = df_En['tweet'].apply(lambda x: clean(x))"
   ]
  },
  {
   "cell_type": "code",
   "execution_count": null,
   "metadata": {},
   "outputs": [],
   "source": [
    "df_En['stemmed'] = df_En['clean'].apply(lambda x: stem(x))"
   ]
  },
  {
   "cell_type": "code",
   "execution_count": null,
   "metadata": {},
   "outputs": [],
   "source": [
    "New_English_lexicon['clean'] = New_English_lexicon['lemma'].apply(lambda x: clean(x))"
   ]
  },
  {
   "cell_type": "code",
   "execution_count": null,
   "metadata": {},
   "outputs": [],
   "source": [
    "New_English_lexicon['stem'] = New_English_lexicon['clean'].apply(lambda x: stem(x))"
   ]
  }
 ],
 "metadata": {
  "kernelspec": {
   "display_name": "Python 3",
   "language": "python",
   "name": "python3"
  },
  "language_info": {
   "codemirror_mode": {
    "name": "ipython",
    "version": 3
   },
   "file_extension": ".py",
   "mimetype": "text/x-python",
   "name": "python",
   "nbconvert_exporter": "python",
   "pygments_lexer": "ipython3",
   "version": "3.7.6"
  }
 },
 "nbformat": 4,
 "nbformat_minor": 2
}
